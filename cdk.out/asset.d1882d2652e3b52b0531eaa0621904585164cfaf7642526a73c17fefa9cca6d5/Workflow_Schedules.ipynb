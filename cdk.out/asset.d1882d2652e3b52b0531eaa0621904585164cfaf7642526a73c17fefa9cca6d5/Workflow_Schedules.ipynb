{
 "cells": [
  {
   "cell_type": "markdown",
   "metadata": {},
   "source": [
    "# Workflow Schedules\n",
    "\n",
    "A template for interacting with workflow schedules\n",
    "\n",
    "Optional parameters are commented out"
   ]
  },
  {
   "cell_type": "markdown",
   "metadata": {},
   "source": [
    "### Global Configuration"
   ]
  },
  {
   "cell_type": "code",
   "execution_count": null,
   "metadata": {},
   "outputs": [],
   "source": [
    "from library.workflow_interface import WorkflowInterface\n",
    "\n",
    "ENV = ''\n",
    "TEAM_NAME = ''\n",
    "\n",
    "workflow_interface = WorkflowInterface(TEAM_NAME=TEAM_NAME, ENV=ENV)"
   ]
  },
  {
   "cell_type": "markdown",
   "metadata": {},
   "source": [
    "### View all workflow schedules"
   ]
  },
  {
   "cell_type": "code",
   "execution_count": null,
   "metadata": {},
   "outputs": [],
   "source": [
    "workflow_interface.get_workflow_schedules()"
   ]
  },
  {
   "cell_type": "markdown",
   "metadata": {},
   "source": [
    "### Create a workflow schedule"
   ]
  },
  {
   "cell_type": "code",
   "execution_count": null,
   "metadata": {},
   "outputs": [],
   "source": [
    "customerId = ''\n",
    "workflowId = ''\n",
    "scheduleDetails = {\n",
    "    \"scheduleName\": '',\n",
    "    \"state\": '' ,\n",
    "    \"scheduleExpression\": '',\n",
    "    \n",
    "    #\"metadata\": {\n",
    "    #    \"scheduleDescription\": ''\n",
    "    #}\n",
    "}\n",
    "#payload = {\n",
    "#   'timeWindowStart' : '' ,\n",
    "#   'timeWindowEnd' : ''   ,\n",
    "#   'timeWindowType' : ''  ,\n",
    "#   'workflowExecutedDate' : ''\n",
    "#}"
   ]
  },
  {
   "cell_type": "code",
   "execution_count": null,
   "metadata": {},
   "outputs": [],
   "source": [
    "workflow_interface.set_workflow_schedule(\n",
    "    workflowId=workflowId, \n",
    "    customerId=customerId, \n",
    "    scheduleDetails=scheduleDetails,\n",
    "    #payload=payload\n",
    ")"
   ]
  },
  {
   "cell_type": "markdown",
   "metadata": {},
   "source": [
    "### Delete a workflow schedule"
   ]
  },
  {
   "cell_type": "code",
   "execution_count": null,
   "metadata": {},
   "outputs": [],
   "source": [
    "customerId = ''\n",
    "scheduleName = ''"
   ]
  },
  {
   "cell_type": "code",
   "execution_count": null,
   "metadata": {},
   "outputs": [],
   "source": [
    "workflow_interface.delete_workflow_schedule(\n",
    "    customerId=customerId,\n",
    "    scheduleName=scheduleName\n",
    ")"
   ]
  }
 ],
 "metadata": {
  "language_info": {
   "name": "python"
  },
  "orig_nbformat": 4
 },
 "nbformat": 4,
 "nbformat_minor": 2
}
