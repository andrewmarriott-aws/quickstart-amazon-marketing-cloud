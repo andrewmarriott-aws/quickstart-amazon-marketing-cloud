{
 "cells": [
  {
   "cell_type": "markdown",
   "metadata": {},
   "source": [
    "# Workflows\n",
    "\n",
    "A template for interacting with workflows\n",
    "\n",
    "Optional parameters are commented out"
   ]
  },
  {
   "cell_type": "markdown",
   "metadata": {},
   "source": [
    "### Global Configuration"
   ]
  },
  {
   "cell_type": "code",
   "execution_count": null,
   "metadata": {},
   "outputs": [],
   "source": [
    "from library.workflow_interface import WorkflowInterface\n",
    "\n",
    "ENV = ''\n",
    "TEAM_NAME = ''\n",
    "\n",
    "workflow_interface = WorkflowInterface(TEAM_NAME=TEAM_NAME, ENV=ENV)"
   ]
  },
  {
   "cell_type": "markdown",
   "metadata": {},
   "source": [
    "### View all workflows"
   ]
  },
  {
   "cell_type": "code",
   "execution_count": null,
   "metadata": {},
   "outputs": [],
   "source": [
    "workflow_interface.get_workflow_records()"
   ]
  },
  {
   "cell_type": "markdown",
   "metadata": {},
   "source": [
    "### View workflow executions"
   ]
  },
  {
   "cell_type": "code",
   "execution_count": null,
   "metadata": {},
   "outputs": [],
   "source": [
    "return_records = 10\n",
    "\n",
    "workflow_interface.get_execution_status(rows=return_records)"
   ]
  },
  {
   "cell_type": "markdown",
   "metadata": {},
   "source": [
    "### Create a workflow"
   ]
  },
  {
   "cell_type": "code",
   "execution_count": null,
   "metadata": {},
   "outputs": [],
   "source": [
    "customerId = ''\n",
    "workflowId = ''\n",
    "query = \"\"\"     \n",
    "\n",
    "\"\"\"\n",
    "workflowDetails = {\n",
    "    \"metadata\": {\n",
    "        \"workflowName\": '',\n",
    "        \"description\": '' ,\n",
    "    },\n",
    "    \"sqlQuery\": query,\n",
    "    \"defaultPayload\": {\n",
    "            \"timeWindowEnd\": '' ,\n",
    "            \"timeWindowStart\": '' ,\n",
    "            \"timeWindowType\": '' ,\n",
    "            \"workflowExecutedDate\": ''\n",
    "    }\n",
    "}"
   ]
  },
  {
   "cell_type": "code",
   "execution_count": null,
   "metadata": {},
   "outputs": [],
   "source": [
    "workflow_interface.set_workflow_record(\n",
    "    customerId=customerId,\n",
    "    workflowId=workflowId,\n",
    "    workflowDetails=workflowDetails\n",
    ")"
   ]
  },
  {
   "cell_type": "markdown",
   "metadata": {},
   "source": [
    "### Invoke a workflow"
   ]
  },
  {
   "cell_type": "code",
   "execution_count": null,
   "metadata": {},
   "outputs": [],
   "source": [
    "cutomerId = ''\n",
    "workflowId = ''\n",
    "\n",
    "#payload = {\n",
    "#   'timeWindowStart' : '' ,\n",
    "#   'timeWindowEnd' : ''   ,\n",
    "#   'timeWindowType' : ''  ,\n",
    "#   'workflowExecutedDate' : ''\n",
    "#}"
   ]
  },
  {
   "cell_type": "code",
   "execution_count": null,
   "metadata": {},
   "outputs": [],
   "source": [
    "workflow_interface.invoke_workflow(\n",
    "    customerId=cutomerId,\n",
    "    workflowId=workflowId,\n",
    "    \n",
    "   #payload=payload\n",
    ")"
   ]
  },
  {
   "cell_type": "markdown",
   "metadata": {},
   "source": [
    "### Delete a workflow"
   ]
  },
  {
   "cell_type": "code",
   "execution_count": null,
   "metadata": {},
   "outputs": [],
   "source": [
    "customerId = ''\n",
    "workflowId = ''"
   ]
  },
  {
   "cell_type": "code",
   "execution_count": null,
   "metadata": {},
   "outputs": [],
   "source": [
    "workflow_interface.delete_workflow_record(\n",
    "    customerId=customerId,\n",
    "    workflowId=workflowId\n",
    ")"
   ]
  }
 ],
 "metadata": {
  "interpreter": {
   "hash": "40ec9b8a0674637d910db8619ba3f1edb1c41b7ab1d9e9c6b03cbee6008de5a1"
  },
  "kernelspec": {
   "display_name": "Python 3.10.3 64-bit ('amc-insights')",
   "language": "python",
   "name": "python3"
  },
  "language_info": {
   "name": "python",
   "version": "3.10.3"
  },
  "orig_nbformat": 4
 },
 "nbformat": 4,
 "nbformat_minor": 2
}
