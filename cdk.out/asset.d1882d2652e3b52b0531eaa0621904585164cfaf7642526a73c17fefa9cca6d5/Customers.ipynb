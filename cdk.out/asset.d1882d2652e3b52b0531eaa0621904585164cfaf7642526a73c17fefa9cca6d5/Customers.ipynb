{
 "cells": [
  {
   "cell_type": "markdown",
   "metadata": {},
   "source": [
    "# Customers\n",
    "\n",
    "A template for managing customers"
   ]
  },
  {
   "cell_type": "markdown",
   "metadata": {},
   "source": [
    "### Global Configuration"
   ]
  },
  {
   "cell_type": "code",
   "execution_count": null,
   "metadata": {},
   "outputs": [],
   "source": [
    "from library.customer_interface import CustomerInterface\n",
    "\n",
    "ENV = ''\n",
    "TEAM_NAME = ''\n",
    "\n",
    "customer_interface = CustomerInterface(TEAM_NAME=TEAM_NAME, ENV=ENV)"
   ]
  },
  {
   "cell_type": "markdown",
   "metadata": {},
   "source": [
    "### Onboard a new customer"
   ]
  },
  {
   "cell_type": "code",
   "execution_count": null,
   "metadata": {},
   "outputs": [],
   "source": [
    "customerId = ''\n",
    "\n",
    "customerDetails = {\n",
    "    \"customerPrefix\" : '',\n",
    "    \"customerName\": '',\n",
    "    \"endemicType\": '', \n",
    "    \"region\": '',\n",
    "    \"amc\":{\n",
    "        \"amcDatasetName\": '',\n",
    "        \"amcApiEndpoint\": '',\n",
    "        \"amcOrangeAwsAccount\": '',\n",
    "        \"amcS3BucketName\": ''\n",
    "    }\n",
    "}"
   ]
  },
  {
   "cell_type": "code",
   "execution_count": null,
   "metadata": {},
   "outputs": [],
   "source": [
    "customer_interface.onboard_customer(\n",
    "    customerId=customerId,\n",
    "    customerDetails=customerDetails\n",
    ")"
   ]
  },
  {
   "cell_type": "markdown",
   "metadata": {},
   "source": [
    "### View all customers"
   ]
  },
  {
   "cell_type": "code",
   "execution_count": null,
   "metadata": {},
   "outputs": [],
   "source": [
    "customer_interface.get_customers()"
   ]
  },
  {
   "cell_type": "markdown",
   "metadata": {},
   "source": [
    "### Update a customer configuration"
   ]
  },
  {
   "cell_type": "code",
   "execution_count": null,
   "metadata": {},
   "outputs": [],
   "source": [
    "customerId = ''\n",
    "\n",
    "customerConfig = {\n",
    "    \"enableWorkflowLibraryNewContent\": False,\n",
    "    #\"enableWorkflowLibraryRemoval\": False,\n",
    "    #\"enableWorkflowLibraryScheduleCreation\": False,\n",
    "    #\"enableWorkflowLibraryScheduleRemoval\": False,\n",
    "    #\"enableWorkflowLibraryUpdates\": False\n",
    "}"
   ]
  },
  {
   "cell_type": "code",
   "execution_count": null,
   "metadata": {},
   "outputs": [],
   "source": [
    "customer_interface.set_customer_config(\n",
    "    customerId=customerId,\n",
    "    customerConfig=customerConfig\n",
    ")"
   ]
  }
 ],
 "metadata": {
  "interpreter": {
   "hash": "40ec9b8a0674637d910db8619ba3f1edb1c41b7ab1d9e9c6b03cbee6008de5a1"
  },
  "kernelspec": {
   "display_name": "Python 3.10.3 64-bit ('amc-insights')",
   "language": "python",
   "name": "python3"
  },
  "language_info": {
   "name": "python",
   "version": "3.10.3"
  },
  "orig_nbformat": 4
 },
 "nbformat": 4,
 "nbformat_minor": 2
}
