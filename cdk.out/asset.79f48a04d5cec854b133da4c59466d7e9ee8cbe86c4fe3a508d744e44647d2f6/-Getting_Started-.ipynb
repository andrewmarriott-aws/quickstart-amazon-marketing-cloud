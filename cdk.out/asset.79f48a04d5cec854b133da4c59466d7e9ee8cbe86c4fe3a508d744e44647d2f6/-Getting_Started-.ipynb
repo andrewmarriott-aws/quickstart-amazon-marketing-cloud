{
 "cells": [
  {
   "cell_type": "markdown",
   "id": "63dd0be9",
   "metadata": {},
   "source": [
    "\n",
    "# Getting Started with AMC Insights\n",
    "A starting point for new users to the service. Contains a walkthrough of onboarding your first client as well as creating and invoking AMC workflows.\n",
    "#### Import Libraries"
   ]
  },
  {
   "cell_type": "code",
   "execution_count": null,
   "id": "3cd37af0",
   "metadata": {},
   "outputs": [],
   "source": [
    "import json\n",
    "from library.workflow_interface import WorkflowInterface\n",
    "from library.customer_interface import CustomerInterface"
   ]
  },
  {
   "cell_type": "markdown",
   "id": "f863f231",
   "metadata": {},
   "source": [
    "#### Define Global Configurations\n",
    "These configuration parameters are needed in order to interact with the correct architecture resources. They serve as constructors for both interface modules."
   ]
  },
  {
   "cell_type": "code",
   "execution_count": null,
   "id": "18cf345e",
   "metadata": {},
   "outputs": [],
   "source": [
    "# Change to your Default Environment\n",
    "ENV = \"dev\"\n",
    "\n",
    "# This is the same value passed in the 'data_pipeline_parameters' team of the ddk.json file\n",
    "TEAM_NAME = \"<INSERT TEAM NAME>\"\n",
    "\n",
    "# Setting these interface classes allow calling the various WFM and TPS methods\n",
    "workflow_interface = WorkflowInterface(TEAM_NAME=TEAM_NAME, ENV=ENV)\n",
    "customer_interface = CustomerInterface(TEAM_NAME=TEAM_NAME, ENV=ENV)"
   ]
  },
  {
   "cell_type": "markdown",
   "id": "ecad4a8f",
   "metadata": {},
   "source": [
    "#### Step 1: Onboard A New Customer\n",
    "\n",
    "The Tenant Provisioning Service (TPS) is used for onboarding new customers to each team space. Each customer is tied 1 to 1 with an AMC instance.\n",
    "\n",
    "The following notebook cells will define your customer AMC instance details and onboard your customer.\n",
    "\n",
    "##### Define Customer Details\n",
    "Edit and run the cell below to define your customer details."
   ]
  },
  {
   "cell_type": "code",
   "execution_count": null,
   "id": "f4d2ce16",
   "metadata": {},
   "outputs": [],
   "source": [
    "# This is the same value passed in the 'data_pipeline_parameters' dataset of the ddk.json file\n",
    "dataset_name = \"<INSERT DATASET NAME>\" \n",
    "\n",
    "# The AMC Instance information can be found on your AMC UI page\n",
    "amc_api_endpoint = \"<ENTER AMC API ENDPOINT URL>\"\n",
    "amc_s3_bucket_name = \"<ENTER AMC S3 BUCKET NAME>\"\n",
    "amc_data_upload_acct = \"<ENTER AMC DATA UPLOAD ACCOUNT ID>\"\n",
    "\n",
    "## The AMC Instance AWS region (found in the API Endpoint URL) e.g. 'us-east-1'\n",
    "# This should be the same as your deployment region\n",
    "region = \"<ENTER AMC INSTANCE REGION>\"\n",
    "\n",
    "## OPTIONAL: Change to your desired Customer ID (keep less than 25 characters) \n",
    "# This value must be unique for each customer\n",
    "customerId = \"testdemocustomer\"\n",
    "\n",
    "# OPTIONAL: Change to your desired Customer Name\n",
    "customerName = \"DemoCustomer\"\n",
    "\n",
    "### Customer Prefix and Endemic Type are used to group together similar customers with overlapping workflows\n",
    "## These are used in the Workflow Library to facilitate management across multiple customers at once\n",
    "# OPTIONAL: Change to your desired Customer Prefix\n",
    "customerPrefix = \"testdemo\"\n",
    "# OPTIONAL: Can Be <ENDEMIC or NON-ENDEMIC>\n",
    "endemicType = \"ENDEMIC\"\n"
   ]
  },
  {
   "cell_type": "markdown",
   "id": "79b51782",
   "metadata": {},
   "source": [
    "##### Confirm Customer Details\n",
    "\n",
    "Run the cell below to format the defined customer settings."
   ]
  },
  {
   "cell_type": "code",
   "execution_count": null,
   "id": "7f3b3f69",
   "metadata": {},
   "outputs": [],
   "source": [
    "customerDetails = {\n",
    "    \"customerPrefix\": customerPrefix,\n",
    "    \"customerName\": customerName, \n",
    "    \"endemicType\": endemicType, \n",
    "    \"region\": region,\n",
    "    \"amc\":{\n",
    "        \"amcDatasetName\": dataset_name,\n",
    "        \"amcApiEndpoint\": amc_api_endpoint,\n",
    "        \"amcOrangeAwsAccount\": amc_data_upload_acct,\n",
    "        \"amcS3BucketName\": amc_s3_bucket_name\n",
    "    }\n",
    "}\n",
    "\n",
    "print(f'customerId = {customerId}')\n",
    "print(f'customerDetails = {json.dumps(customerDetails, indent=4)}')"
   ]
  },
  {
   "cell_type": "markdown",
   "id": "5f90624e",
   "metadata": {},
   "source": [
    "##### Submit Customer Onboarding\n",
    "\n",
    "Run the cell below to start the process of onboarding your customer and creating the AMC S3 Bucket if it does not already exist."
   ]
  },
  {
   "cell_type": "code",
   "execution_count": null,
   "id": "a71bb7b1",
   "metadata": {},
   "outputs": [],
   "source": [
    "customer_interface.onboard_customer(\n",
    "    customerId=customerId, \n",
    "    customerDetails=customerDetails\n",
    "    )"
   ]
  },
  {
   "cell_type": "markdown",
   "id": "e0c4208a",
   "metadata": {},
   "source": [
    "_Wait a few minutes for the cloudformation stack to be deployed BEFORE moving to Step #2._\n",
    "\n",
    "_You Can Verify the Status by going to AWS Step Functions and waiting until the state machine named tps-&lt;TeamName&gt;-initialize-amc has 1 Succeeded Execution Status._"
   ]
  },
  {
   "cell_type": "markdown",
   "id": "c1fc5dd7",
   "metadata": {},
   "source": [
    "#### Step 2: Create a Workflow Record \n",
    "\n",
    "The Workflow Manager Service (WFM) is used to manage and schedule AMC workflows. The following steps  will walk through the process of creating a new workflow record.\n",
    "\n",
    "The query used here is the Time To Conversion Query from the Interactive Query Library (IQL) in the AMC UI.\n",
    "\n",
    "The query finds out how long it takes for your customers to convert after last seeing your ad. You can use this information to adjust the duration of campaign and promotion to maximize sales. In our amazon_attributed_events_by_conversion_time and amazon_attributed_events_by_traffic_time tables, we report up to 14 days after the customers’ last exposure to your ad.\n",
    "\n",
    "##### Define Workflow Query\n",
    "\n",
    "Run the cell below to define the query that will be used in the workflow.\n"
   ]
  },
  {
   "cell_type": "code",
   "execution_count": null,
   "id": "85b65bd5",
   "metadata": {},
   "outputs": [],
   "source": [
    "amc_query = \"\"\"\n",
    "SELECT\n",
    "      advertiser,\n",
    "      campaign,\n",
    "        ( \n",
    "            CASE WHEN SECONDS_BETWEEN (impression_dt,\n",
    "                    conversion_event_dt) <= 60 THEN\n",
    "                '1 | < 1 MIN'\n",
    "                WHEN SECONDS_BETWEEN (impression_dt,\n",
    "                    conversion_event_dt) <= 600 THEN\n",
    "                '2 | 1 - 10 MIN'\n",
    "                WHEN SECONDS_BETWEEN (impression_dt,\n",
    "                    conversion_event_dt) <= 1800 THEN\n",
    "                '3 | 10 - 30 MIN'\n",
    "                WHEN SECONDS_BETWEEN (impression_dt,\n",
    "                    conversion_event_dt) <= 3600 THEN\n",
    "                '4 | 30 - 60 MIN'\n",
    "                WHEN SECONDS_BETWEEN (impression_dt,\n",
    "                    conversion_event_dt) <= 7200 THEN\n",
    "                '5 | 1 - 2 HRS'\n",
    "                WHEN SECONDS_BETWEEN (impression_dt,\n",
    "                    conversion_event_dt) <= 43200 THEN\n",
    "                '6 | 2 - 12 HRS'\n",
    "                WHEN SECONDS_BETWEEN (impression_dt,\n",
    "                    conversion_event_dt) <= 86400 THEN\n",
    "                '7 | 12 - 24 HRS'\n",
    "                WHEN SECONDS_BETWEEN (impression_dt,\n",
    "                    conversion_event_dt) <= 604800 THEN\n",
    "                '8 | 1 - 7 DAYS'\n",
    "            ELSE\n",
    "                '9 | 7+ DAYS'\n",
    "END\n",
    ") AS time_to_conversion,\n",
    "        SUM(purchases) AS purchases,\n",
    "        SUM(total_purchases) AS total_brand_purchases\n",
    "FROM\n",
    "    amazon_attributed_events_by_conversion_time\n",
    "    \n",
    "GROUP BY 1,2,3\n",
    "\"\"\"\n",
    "\n",
    "print (amc_query)"
   ]
  },
  {
   "cell_type": "markdown",
   "id": "b92d8633",
   "metadata": {},
   "source": [
    "__NOTE__: This is just one example of a workflow query you can run on your AMC Instance. Refer to the Interactive Query Library (IQL) in the AMC UI for a list of other queries for different use cases. Queries can also be customized for you unique use case as well."
   ]
  },
  {
   "cell_type": "markdown",
   "id": "b1c12e9c",
   "metadata": {},
   "source": [
    "##### Define Workflow Details\n",
    "\n",
    "Run the cell below to define the workflow settings."
   ]
  },
  {
   "cell_type": "code",
   "execution_count": null,
   "id": "90013ea3",
   "metadata": {},
   "outputs": [],
   "source": [
    "## OPTIONAL: Change to your desired Workflow ID\n",
    "# This value must be unique for each workflow per customer (workflowId + customerId = composite key)\n",
    "workflowId = \"time_to_conversion_v1\"\n",
    "\n",
    "# OPTIONAL: Change to your desired Workflow Name\n",
    "workflowName = \"time_to_conversion\"\n",
    "\n",
    "# OPTIONAL: Change to your desired Workflow Description\n",
    "workflowDescription = \"Runs the time_to_conversion workflow.\"\n",
    "\n",
    "### Default Payload\n",
    "## The following parameters are saved to the Workflow and will be used in the absense of invocation overrides\n",
    "# OPTIONAL: Change to your desired Time Window End\n",
    "timeWindowEnd = \"today(-1)\"\n",
    "\n",
    "# OPTIONAL: Change to your desired Time Window Start \n",
    "timeWindowStart = \"today(-91)\"\n",
    "\n",
    "# OPTIONAL: Change to your desired Time Window Type\n",
    "timeWindowType = \"EXPLICIT\"\n",
    "\n",
    "# OPTIONAL: Change to your desired Workflow Executed Date\n",
    "workflowExecutedDate = \"now()\"\n"
   ]
  },
  {
   "cell_type": "markdown",
   "id": "fa44171c",
   "metadata": {},
   "source": [
    "##### Confirm Workflow Details\n",
    "\n",
    "Run the cell below to format the defined workflow settings."
   ]
  },
  {
   "cell_type": "code",
   "execution_count": null,
   "id": "3efce523",
   "metadata": {},
   "outputs": [],
   "source": [
    "workflowId = workflowId\n",
    "workflowDetails = {\n",
    "    \"metadata\": {\n",
    "        \"workflowName\": workflowName,\n",
    "        \"description\": workflowDescription,\n",
    "    },\n",
    "    \"sqlQuery\": amc_query,\n",
    "    \"defaultPayload\": {\n",
    "            \"timeWindowEnd\": timeWindowEnd,\n",
    "            \"timeWindowStart\": timeWindowStart,\n",
    "            \"timeWindowType\": timeWindowType,\n",
    "            \"workflowExecutedDate\": workflowExecutedDate\n",
    "    }\n",
    "}\n",
    "\n",
    "print(f'workflowId = {workflowId}')\n",
    "print(f'workflowDetails = {json.dumps(workflowDetails, indent=4)}')"
   ]
  },
  {
   "cell_type": "markdown",
   "id": "c1c24dea",
   "metadata": {},
   "source": [
    "##### Submit Workflow Create\n",
    "\n",
    "Run the cell below to create and save the workflow details."
   ]
  },
  {
   "cell_type": "code",
   "execution_count": null,
   "id": "835c7fd8",
   "metadata": {},
   "outputs": [],
   "source": [
    "workflow_interface.set_workflow_record(\n",
    "    workflowId=workflowId,\n",
    "    customerId=customerId,\n",
    "    workflowDetails=workflowDetails\n",
    "    )"
   ]
  },
  {
   "cell_type": "markdown",
   "id": "f4e44df8",
   "metadata": {},
   "source": [
    "#### Step 3: Invoke the Workflow to be Executed Ad Hoc\n",
    "\n",
    "Saved workflows can be executed adhoc or on a schedule. In the following step we will adhoc invoke the workflow we just created.\n",
    "\n",
    "##### Submit Workflow Invoke Request\n",
    "\n",
    "Run the cell below to submit the workflow to be processed once."
   ]
  },
  {
   "cell_type": "code",
   "execution_count": null,
   "id": "baddbdc2",
   "metadata": {},
   "outputs": [],
   "source": [
    "workflow_interface.invoke_workflow(\n",
    "    workflowId=workflowId, \n",
    "    customerId=customerId\n",
    "    )"
   ]
  },
  {
   "cell_type": "markdown",
   "id": "bf29beab",
   "metadata": {},
   "source": [
    "#### Your workflow is now being processed and executed\n",
    "Once the workflow has run, data will be uploaded to your AMC S3 Bucket with the results of the workflow query and then processed through the data lake.\n",
    "\n",
    "The execution status of the workflow can be viewed in the AMCExecutionStatus table.\n",
    "\n",
    "##### View Execution Status\n",
    "\n",
    "Run the cell below to view this table."
   ]
  },
  {
   "cell_type": "code",
   "execution_count": null,
   "id": "9c84c39b",
   "metadata": {},
   "outputs": [],
   "source": [
    "workflow_interface.get_execution_status()"
   ]
  },
  {
   "cell_type": "markdown",
   "id": "8fd4276a",
   "metadata": {},
   "source": [
    "#### Step 4: Schedule the Workflow\n",
    "\n",
    "Workflows can also be configured to automatically run on a set schedule. Optionally passing in 'payload' values allows you to override the saved defaultParameters on the workflow.\n",
    "\n",
    "The steps below will walk through deploying a schedule without payload overrides on the workflow created earlier.\n",
    "\n",
    "##### Define Schedule Details\n",
    "\n",
    "Run the cell below to define the workflow schedule."
   ]
  },
  {
   "cell_type": "code",
   "execution_count": null,
   "id": "14437ac1",
   "metadata": {},
   "outputs": [],
   "source": [
    "## OPTIONAL: Change to your desired Schedule Name\n",
    "# This value must be unique for each schedule per customer (scheduleName + customerId = composite key)\n",
    "scheduleName = \"time_to_conversion_daily\"\n",
    "\n",
    "# OPTIONAL: Can be set to 'ENABLED' or 'DISABLED'\n",
    "state = \"ENABLED\"\n",
    "\n",
    "#### OPTIONAL: Change to your desired schedule frequency\n",
    "### Format is 'custom({H/D/W/M} {Day of the week/month} {Hour of the day})'\n",
    "## E.g. \n",
    "#   custom(H * *) will be run every hour\n",
    "#   custom(W 2 8) will be run weekly, on the 2nd day of the week, between 8:00 and 8:59 UTC\n",
    "#   custom(D * 14) will be run daily, between 14:00 and 14:59 UTC\n",
    "#   custom(M 15 2) will be run monthly, on the 15th day of the month, between 2:00 and 2:59 UTC\n",
    "scheduleExpression = \"custom(D * *)\""
   ]
  },
  {
   "cell_type": "markdown",
   "id": "bf4b70e9",
   "metadata": {},
   "source": [
    "##### Confirm Workflow Schedule\n",
    "\n",
    "Run the cell below to format the defined schedule settings."
   ]
  },
  {
   "cell_type": "code",
   "execution_count": null,
   "id": "2396c86c",
   "metadata": {},
   "outputs": [],
   "source": [
    "customerId = customerId\n",
    "workflowId = workflowId\n",
    "scheduleDetails = {\n",
    "    \"scheduleName\": scheduleName,\n",
    "    \"state\": state,\n",
    "    \"scheduleExpression\": scheduleExpression\n",
    "}\n",
    "\n",
    "print(f'customerId = {customerId}')\n",
    "print(f'workflowId = {workflowId}')\n",
    "print(f'scheduleDetails = {scheduleDetails}')"
   ]
  },
  {
   "cell_type": "markdown",
   "id": "c89dc3b1",
   "metadata": {},
   "source": [
    "##### Submit Workflow Schedule\n",
    "\n",
    "Run the cell below to deploy the workflow schedule."
   ]
  },
  {
   "cell_type": "code",
   "execution_count": null,
   "id": "910e8656",
   "metadata": {},
   "outputs": [],
   "source": [
    "workflow_interface.set_workflow_schedule(\n",
    "    workflowId=workflowId,\n",
    "    customerId=customerId,\n",
    "    scheduleDetails=scheduleDetails\n",
    ")"
   ]
  },
  {
   "cell_type": "markdown",
   "id": "8ec011aa",
   "metadata": {},
   "source": [
    "#### Your workflow is now scheduled\n",
    "\n",
    "Workflows can also be scheduled using cron() statements instead of the custom() method used in the cells above. E.g. scheduleExpression = 'cron(15 10 * * ? *)'\n",
    "\n",
    "It is recommended, however, to use custom() as it utilizes less resources."
   ]
  },
  {
   "cell_type": "markdown",
   "id": "ff21de14",
   "metadata": {},
   "source": [
    "#### Step 5: Create a Workflow Library Record\n",
    "\n",
    "The Workflow Library provides a quick and easy way to manage and deploy workflows/schedules to multiple customers at once. The following steps walk through this proccess on a new workflow.\n",
    "\n",
    "##### Define Worklow Details\n",
    "\n",
    "Run the cell below to define the workflow details."
   ]
  },
  {
   "cell_type": "code",
   "execution_count": null,
   "id": "c10bdd5b",
   "metadata": {},
   "outputs": [],
   "source": [
    "sqlQuery = \"\"\"\n",
    "    WITH IMP_CLICKSSEG AS (   \n",
    "            SELECT  A.ADVERTISER, \n",
    "                    A.behavior_segment_name AS SEGMENT, \n",
    "                    SUM(A.total_cost/100000) AS impression_cost,\n",
    "                    behavior_segment_matched AS MATCHED_SEGMENT, \n",
    "                    SUM(A.IMPRESSIONS) AS IMPRESSIONS, \n",
    "                    SUM(B.clicks) AS CLICKS, \n",
    "                    COUNT(DISTINCT A.USER_ID) AS REACH \n",
    "            FROM    display_impressions_by_user_segments A \n",
    "                LEFT JOIN   DISPLAY_CLICKS B \n",
    "                    ON  A.request_tag = B.request_tag \n",
    "            GROUP BY    A.ADVERTISER, \n",
    "                        A.behavior_segment_name, \n",
    "                        A.behavior_segment_matched\n",
    "            ), \n",
    "    USR_SEG_IMP AS (   \n",
    "            SELECT  user_id, \n",
    "                    advertiser_id, \n",
    "                    behavior_segment_name, \n",
    "                    behavior_segment_matched, \n",
    "                    SUM(total_cost)/100000 AS impression_cost \n",
    "            FROM    display_impressions_by_user_segments\n",
    "            GROUP BY    user_id, \n",
    "                        advertiser_id, \n",
    "                        behavior_segment_name, \n",
    "                        behavior_segment_matched \n",
    "            ), \n",
    "    CONV_SEG AS ( \n",
    "            SELECT  A.ADVERTISER, \n",
    "                    A.tracked_asin, \n",
    "                    B.behavior_segment_name AS SEGMENT, \n",
    "                    B.behavior_segment_matched AS MATCHED_SEGMENT, \n",
    "                    SUM(A.CONVERSIONS) AS PURCHASES, \n",
    "                    SUM(A.product_sales) AS sales_tracked, \n",
    "                    SUM(A.total_product_sales) AS sales_tracked_brand, \n",
    "                    ROUND(SUM(A.total_product_sales)/SUM(B.impression_cost),2) AS roas_brand, \n",
    "                    ROUND(SUM(A.product_sales)/SUM(B.impression_cost),2) AS roas_salestracked, \n",
    "                    SUM(B.impression_cost) AS total_cost_fromconvtable \n",
    "            FROM    amazon_attributed_events_by_conversion_time A \n",
    "                INNER JOIN USR_SEG_IMP B \n",
    "                    ON  A.USER_ID = B.USER_ID \n",
    "                        AND A.ADVERTISER_ID = B.ADVERTISER_ID \n",
    "            WHERE conversion_event_subtype = 'order' \n",
    "            GROUP BY    A.ADVERTISER, \n",
    "                        A.tracked_asin, \n",
    "                        B.behavior_segment_name, \n",
    "                        B.behavior_segment_matched \n",
    "            ) \n",
    "    SELECT  A.ADVERTISER, \n",
    "            BUILT_IN_PARAMETER('TIME_WINDOW_START') AS time_window_start, \n",
    "            BUILT_IN_PARAMETER('TIME_WINDOW_END') AS time_window_end, \n",
    "            A.SEGMENT, A.MATCHED_SEGMENT, \n",
    "            A.IMPRESSIONS, \n",
    "            A.REACH, \n",
    "            B.tracked_asin, \n",
    "            B.PURCHASES, \n",
    "            B.SALES_TRACKED, \n",
    "            B.sales_tracked_brand, \n",
    "            A.CLICKS, \n",
    "            roas_brand, \n",
    "            roas_salestracked, \n",
    "            A.impression_cost, \n",
    "            (B.PURCHASES/A.REACH) AS conversion_rate_perc, \n",
    "            B.total_cost_fromconvtable \n",
    "    FROM IMP_CLICKSSEG A \n",
    "    LEFT JOIN CONV_SEG B \n",
    "        ON A.ADVERTISER = B.ADVERTISER \n",
    "            AND A.SEGMENT = B.SEGMENT \n",
    "            AND A.MATCHED_SEGMENT = B.MATCHED_SEGMENT\"\n",
    "\"\"\"\n",
    "\n",
    "# OPTIONAL: Change to your desired Workflow ID\n",
    "workflowId = \"exposure_group_analysis_v1\"\n",
    "\n",
    "# OPTIONAL: Change to your desired Workflow Name\n",
    "workflowName = \"exposure_group_analysis\"\n",
    "\n",
    "# OPTIONAL: Change to your desired Workflow Description\n",
    "workflowDescription = \"runs the exposure_group_analysis workflow\"\n",
    "\n",
    "### Default Payload\n",
    "## The following parameters are saved to the Workflow and will be used in the absense of invocation overrides\n",
    "# OPTIONAL: Change to your desired Time Window Start\n",
    "timeWindowEnd = \"today(-1)\"\n",
    "\n",
    "# OPTIONAL: Change to your desired Time Window Start\n",
    "timeWindowStart = \"today(-8)\"\n",
    "\n",
    "# OPTIONAL: Change to your desired Time Window Type\n",
    "timeWindowType = \"EXPLICIT\"\n",
    "\n",
    "# OPTIONAL: Change to your desired Workflow Executed Date\n",
    "workflowExecutedDate = \"now()\""
   ]
  },
  {
   "cell_type": "markdown",
   "id": "58a67d85",
   "metadata": {},
   "source": [
    "##### Define Schedule Details\n",
    "\n",
    "A workflow schedule can optionally be passed in as well in order to deploy a schedule along with the workflow. If 'schedule' is not passed in as a parameter then the worklow will be deployed without a schedule.\n",
    "\n",
    "Run the cell below to define the workflow schedule."
   ]
  },
  {
   "cell_type": "code",
   "execution_count": null,
   "id": "7c98b99f",
   "metadata": {},
   "outputs": [],
   "source": [
    "# OPTIONAL: Change to your desired Schedule Name\n",
    "scheduleName = \"exposure_group_analysis_weekly\"\n",
    "\n",
    "# OPTIONAL: Can be set to 'ENABLED' or 'DISABLED'\n",
    "state = \"ENABLED\"\n",
    "\n",
    "#### OPTIONAL: Change to your desired schedule frequency\n",
    "scheduleExpression = \"custom(W 1 11)\""
   ]
  },
  {
   "cell_type": "markdown",
   "id": "dc7dc1a7",
   "metadata": {},
   "source": [
    "##### Define Customer Details\n",
    "\n",
    "When defining a workflow library record, you can optionally pass in parameters for 'endemicType' and 'customerPrefix'. The workflow and schedule will only be deployed for customers that share the same endemicType and/or customerPrefix to the workflow library record.\n",
    "\n",
    "If no values are passed in, the workflow and schedule will be deployed for all customers.\n",
    "\n",
    "In this demo we will deploy the workflow and schedule to all customers who are set to 'ENDEMIC'."
   ]
  },
  {
   "cell_type": "code",
   "execution_count": null,
   "id": "0cb8b1e8",
   "metadata": {},
   "outputs": [],
   "source": [
    "endemicType = \"ENDEMIC\""
   ]
  },
  {
   "cell_type": "markdown",
   "id": "53efc0e0",
   "metadata": {},
   "source": [
    "##### Confirm Workflow Library Record\n",
    "\n",
    "Run the cell below to format the defined workflow library record."
   ]
  },
  {
   "cell_type": "code",
   "execution_count": null,
   "id": "5ce2e30b",
   "metadata": {},
   "outputs": [],
   "source": [
    "workflowId = workflowId\n",
    "endemicType = endemicType\n",
    "workflowDetails = {\n",
    "    \"metadata\": {\n",
    "        \"workflowName\": workflowName,\n",
    "        \"workflowDescription\": workflowDescription\n",
    "    },\n",
    "    \"sqlQuery\": sqlQuery,\n",
    "    \"defaultPayload\": {\n",
    "        \"timeWindowEnd\": timeWindowEnd,\n",
    "        \"timeWindowStart\": timeWindowStart,\n",
    "        \"timeWindowType\": timeWindowType,\n",
    "        \"workflowExecutedDate\": workflowExecutedDate\n",
    "    }\n",
    "}\n",
    "schedule = {\n",
    "    \"scheduleName\": scheduleName,\n",
    "    \"scheduleDetails\": {\n",
    "        \"state\": state,\n",
    "        \"scheduleExpression\": scheduleExpression\n",
    "    }\n",
    "}\n"
   ]
  },
  {
   "cell_type": "markdown",
   "id": "f19ce2f9",
   "metadata": {},
   "source": [
    "##### Submit Workflow Library Record\n",
    "\n",
    "Run the cell below to submit and deploy the defined workflow and schedule."
   ]
  },
  {
   "cell_type": "code",
   "execution_count": null,
   "id": "9099cf8f",
   "metadata": {},
   "outputs": [],
   "source": [
    "workflow_interface.set_workflow_library_record(\n",
    "    workflowId=workflowId,\n",
    "    endemicType=endemicType,\n",
    "    workflowDetails=workflowDetails,\n",
    "    schedule=schedule\n",
    ")"
   ]
  },
  {
   "cell_type": "markdown",
   "id": "16563f18",
   "metadata": {},
   "source": [
    "#### Your workflow and schedule are now deployed\n",
    "\n",
    "Re-submitting workflows from the library table will allow you to deploy changes to all customers without needing to individually update each record."
   ]
  },
  {
   "cell_type": "markdown",
   "id": "6e608c7f",
   "metadata": {},
   "source": [
    "#### Step 6: Delete Workflow Schedules and Records\n",
    "\n",
    "Run the cells below to remove all of the workflow records created during this walkthrough."
   ]
  },
  {
   "cell_type": "code",
   "execution_count": null,
   "id": "25e42370",
   "metadata": {},
   "outputs": [],
   "source": [
    "workflow_interface.delete_workflow_schedule(\n",
    "    customerId=customerId,\n",
    "    scheduleName=\"time_to_conversion_daily\"\n",
    ")\n",
    "\n",
    "workflow_interface.delete_workflow_record(\n",
    "    customerId=customerId,\n",
    "    workflowId=\"time_to_conversion_v1\"\n",
    ")\n",
    "\n",
    "workflow_interface.delete_workflow_library_record(\n",
    "    workflowId='exposure_group_analysis_v1'\n",
    ")"
   ]
  },
  {
   "cell_type": "markdown",
   "id": "ae1d4d27",
   "metadata": {},
   "source": [
    "#### **Next Steps**\n",
    "After going through the guide above, the following notebooks provide templates for interacting with the microservice solution.\n",
    "\n",
    "**Customers**: managing and onboarding new customers to the service.  \n",
    "**Workflows**: managing and invoking workflows for single customers.  \n",
    "**Workflow_Schedules**: managing workflow schedules for single customers.  \n",
    "**Workflow_Library**: managing workflow and schedules for multiple customers.  \n",
    "\n",
    "The reference folder located in this deployed instance contains additional useful documentation."
   ]
  }
 ],
 "metadata": {
  "interpreter": {
   "hash": "40ec9b8a0674637d910db8619ba3f1edb1c41b7ab1d9e9c6b03cbee6008de5a1"
  },
  "kernelspec": {
   "display_name": "Python 3.10.3 64-bit ('amc-insights')",
   "language": "python",
   "name": "python3"
  },
  "language_info": {
   "codemirror_mode": {
    "name": "ipython",
    "version": 3
   },
   "file_extension": ".py",
   "mimetype": "text/x-python",
   "name": "python",
   "nbconvert_exporter": "python",
   "pygments_lexer": "ipython3",
   "version": "3.10.3"
  }
 },
 "nbformat": 4,
 "nbformat_minor": 5
}
