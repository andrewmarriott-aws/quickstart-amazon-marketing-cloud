{
 "cells": [
  {
   "cell_type": "markdown",
   "id": "63dd0be9",
   "metadata": {},
   "source": [
    "\n",
    "# Getting Started with AMC Insights\n",
    "A starting point for new users to the service. Contains a walkthrough of onboarding your first client as well as creating and invoking AMC workflows.\n",
    "#### Import Libraries"
   ]
  },
  {
   "cell_type": "code",
   "execution_count": null,
   "id": "3cd37af0",
   "metadata": {},
   "outputs": [],
   "source": [
    "import json\n",
    "from library.workflow_interface import WorkflowInterface\n",
    "from library.customer_interface import CustomerInterface"
   ]
  },
  {
   "cell_type": "markdown",
   "id": "f863f231",
   "metadata": {},
   "source": [
    "#### Define Global Configurations\n",
    "These configuration parameters are needed in order to interact with the correct architecture resources. They serve as constructors for both interface modules."
   ]
  },
  {
   "cell_type": "code",
   "execution_count": null,
   "id": "18cf345e",
   "metadata": {},
   "outputs": [],
   "source": [
    "# Change to your Default Environment\n",
    "ENV = \"dev\"\n",
    "\n",
    "# This is the same value passed in the 'data_pipeline_parameters' team of the ddk.json file\n",
    "TEAM_NAME = \"<INSERT TEAM NAME>\"\n",
    "\n",
    "# Setting these interface classes allow calling the various WFM and TPS methods\n",
    "workflow_interface = WorkflowInterface(TEAM_NAME=TEAM_NAME, ENV=ENV)\n",
    "customer_interface = CustomerInterface(TEAM_NAME=TEAM_NAME, ENV=ENV)"
   ]
  },
  {
   "cell_type": "markdown",
   "id": "ecad4a8f",
   "metadata": {},
   "source": [
    "#### Step 1: Onboard A New Customer\n",
    "\n",
    "The Tenant Provisioning Service (TPS) is used for onboarding new customers to each team space. Each customer is tied 1 to 1 with an AMC instance.\n",
    "\n",
    "The following notebook cells will define your customer AMC instance details and onboard your customer.\n",
    "\n",
    "##### Define Customer Details\n",
    "Edit and run the cell below to define your customer details."
   ]
  },
  {
   "cell_type": "code",
   "execution_count": null,
   "id": "f4d2ce16",
   "metadata": {},
   "outputs": [],
   "source": [
    "# This is the same value passed in the 'data_pipeline_parameters' dataset of the ddk.json file\n",
    "dataset_name = \"<INSERT DATASET NAME>\" \n",
    "\n",
    "# The AMC Instance information can be found on your AMC UI page\n",
    "amc_api_endpoint = \"<ENTER AMC API ENDPOINT URL>\"\n",
    "amc_s3_bucket_name = \"<ENTER AMC S3 BUCKET NAME>\"\n",
    "amc_data_upload_acct = \"<ENTER AMC DATA UPLOAD ACCOUNT ID>\"\n",
    "\n",
    "## The AMC Instance AWS region (found in the API Endpoint URL) e.g. 'us-east-1'\n",
    "# This should be the same as your deployment region\n",
    "amc_instance_region = \"<ENTER AMC INSTANCE REGION>\"\n",
    "\n",
    "# OPTIONAL: Change to your desired Customer ID (keep less than 25 characters) \n",
    "customerId = \"testdemocustomer\"\n",
    "\n",
    "# OPTIONAL: Change to your desired Customer Prefix\n",
    "customerPrefix = \"testdemocustomer\"\n",
    "\n",
    "# OPTIONAL: Change to your desired Customer Name\n",
    "customerName = \"DemoCustomer\"\n",
    "\n",
    "# OPTIONAL: Can Be <ENDEMIC or NON-ENDEMIC>\n",
    "endemicType = \"ENDEMIC\""
   ]
  },
  {
   "cell_type": "markdown",
   "id": "79b51782",
   "metadata": {},
   "source": [
    "##### Confirm Customer Details\n",
    "\n",
    "Run the cell below to format the defined customer settings."
   ]
  },
  {
   "cell_type": "code",
   "execution_count": null,
   "id": "7f3b3f69",
   "metadata": {},
   "outputs": [],
   "source": [
    "customerDetails = {\n",
    "    \"customerPrefix\": customerPrefix,\n",
    "    \"customerName\": customerName, \n",
    "    \"endemicType\": endemicType, \n",
    "    \"region\": amc_instance_region,\n",
    "    \"amc\":{\n",
    "        \"amcDatasetName\": dataset_name,\n",
    "        \"amcApiEndpoint\": amc_api_endpoint,\n",
    "        \"amcOrangeAwsAccount\": amc_data_upload_acct,\n",
    "        \"amcS3BucketName\": amc_s3_bucket_name\n",
    "    }\n",
    "}\n",
    "\n",
    "print(f'customerId = {customerId}')\n",
    "print(f'customerDetails = {json.dumps(customerDetails, indent=4)}')"
   ]
  },
  {
   "cell_type": "markdown",
   "id": "5f90624e",
   "metadata": {},
   "source": [
    "##### Submit Customer Onboarding\n",
    "\n",
    "Run the cell below to start the process of onboarding your customer and creating the AMC S3 Bucket if it does not already exist."
   ]
  },
  {
   "cell_type": "code",
   "execution_count": null,
   "id": "a71bb7b1",
   "metadata": {},
   "outputs": [],
   "source": [
    "response = customer_interface.onboard_customer(\n",
    "    customerId=customerId, \n",
    "    customerDetails=customerDetails\n",
    "    )\n",
    "\n",
    "print(response)"
   ]
  },
  {
   "cell_type": "markdown",
   "id": "e0c4208a",
   "metadata": {},
   "source": [
    "_Wait a few minutes for the cloudformation stack to be deployed BEFORE moving to Step #2._\n",
    "\n",
    "_You Can Verify the Status by going to AWS Step Functions and waiting until the state machine named tps-&lt;TeamName&gt;-initialize-amc has 1 Succeeded Execution Status._"
   ]
  },
  {
   "cell_type": "markdown",
   "id": "c1fc5dd7",
   "metadata": {},
   "source": [
    "#### Step 2: Create a Workflow Record \n",
    "\n",
    "The Workflow Manager Service (WFM) is used to manage and schedule AMC workflows. The following notebook cells will walk through the process of creating a new workflow record.\n",
    "\n",
    "The query used here is the Time To Conversion Query from the Interactive Query Library (IQL) in the AMC UI.\n",
    "\n",
    "The query finds out how long it takes for your customers to convert after last seeing your ad. You can use this information to adjust the duration of campaign and promotion to maximize sales. In our amazon_attributed_events_by_conversion_time and amazon_attributed_events_by_traffic_time tables, we report up to 14 days after the customers’ last exposure to your ad.\n",
    "\n",
    "##### Define Workflow Query\n",
    "\n",
    "Run the cell below to define the query that will be used in the workflow.\n"
   ]
  },
  {
   "cell_type": "code",
   "execution_count": null,
   "id": "85b65bd5",
   "metadata": {},
   "outputs": [],
   "source": [
    "amc_query = \"\"\"\n",
    "SELECT\n",
    "      advertiser,\n",
    "      campaign,\n",
    "        ( \n",
    "            CASE WHEN SECONDS_BETWEEN (impression_dt,\n",
    "                    conversion_event_dt) <= 60 THEN\n",
    "                '1 | < 1 MIN'\n",
    "                WHEN SECONDS_BETWEEN (impression_dt,\n",
    "                    conversion_event_dt) <= 600 THEN\n",
    "                '2 | 1 - 10 MIN'\n",
    "                WHEN SECONDS_BETWEEN (impression_dt,\n",
    "                    conversion_event_dt) <= 1800 THEN\n",
    "                '3 | 10 - 30 MIN'\n",
    "                WHEN SECONDS_BETWEEN (impression_dt,\n",
    "                    conversion_event_dt) <= 3600 THEN\n",
    "                '4 | 30 - 60 MIN'\n",
    "                WHEN SECONDS_BETWEEN (impression_dt,\n",
    "                    conversion_event_dt) <= 7200 THEN\n",
    "                '5 | 1 - 2 HRS'\n",
    "                WHEN SECONDS_BETWEEN (impression_dt,\n",
    "                    conversion_event_dt) <= 43200 THEN\n",
    "                '6 | 2 - 12 HRS'\n",
    "                WHEN SECONDS_BETWEEN (impression_dt,\n",
    "                    conversion_event_dt) <= 86400 THEN\n",
    "                '7 | 12 - 24 HRS'\n",
    "                WHEN SECONDS_BETWEEN (impression_dt,\n",
    "                    conversion_event_dt) <= 604800 THEN\n",
    "                '8 | 1 - 7 DAYS'\n",
    "            ELSE\n",
    "                '9 | 7+ DAYS'\n",
    "END\n",
    ") AS time_to_conversion,\n",
    "        SUM(purchases) AS purchases,\n",
    "        SUM(total_purchases) AS total_brand_purchases\n",
    "FROM\n",
    "    amazon_attributed_events_by_conversion_time\n",
    "    \n",
    "GROUP BY 1,2,3\n",
    "\"\"\"\n",
    "\n",
    "print (amc_query)"
   ]
  },
  {
   "cell_type": "markdown",
   "id": "b92d8633",
   "metadata": {},
   "source": [
    "__NOTE__: This is just one example of a workflow query you can run on your AMC Instance. Refer to the Interactive Query Library (IQL) in the AMC UI for a list of other queries for different use cases. Queries can also be customized for you unique use case as well."
   ]
  },
  {
   "cell_type": "markdown",
   "id": "b1c12e9c",
   "metadata": {},
   "source": [
    "##### Define Workflow Details\n",
    "\n",
    "Run the cell below to define the workflow settings."
   ]
  },
  {
   "cell_type": "code",
   "execution_count": null,
   "id": "90013ea3",
   "metadata": {},
   "outputs": [],
   "source": [
    "#OPTIONAL: Change to your desired Workflow ID\n",
    "workflowId = \"time_to_conversion_v1\"\n",
    "\n",
    "# OPTIONAL: Change to your desired Workflow Name\n",
    "workflowName = \"time_to_conversion\"\n",
    "\n",
    "# OPTIONAL: Change to your desired Workflow Description\n",
    "workflowDescription = \"Runs the time_to_conversion workflow.\"\n",
    "\n",
    "### Default Payload\n",
    "## The following parameters are saved to the Workflow and will be used in the absense of invocation overrides\n",
    "# OPTIONAL: Change to your desired Time Window End\n",
    "timeWindowEnd = \"today(-1)\"\n",
    "\n",
    "# OPTIONAL: Change to your desired Time Window Start\n",
    "timeWindowStart = \"today(-91)\"\n",
    "\n",
    "# OPTIONAL: Change to your desired Time Window Type\n",
    "timeWindowType = \"EXPLICIT\"\n",
    "\n",
    "# OPTIONAL: Change to your desired Workflow Executed Date\n",
    "workflowExecutedDate = \"now()\"\n"
   ]
  },
  {
   "cell_type": "markdown",
   "id": "fa44171c",
   "metadata": {},
   "source": [
    "##### Confirm Workflow Details\n",
    "\n",
    "Run the cell below to format the defined workflow settings."
   ]
  },
  {
   "cell_type": "code",
   "execution_count": null,
   "id": "3efce523",
   "metadata": {},
   "outputs": [],
   "source": [
    "workflowId = workflowId\n",
    "workflowDetails = {\n",
    "    \"metadata\": {\n",
    "        \"workflowName\": workflowName,\n",
    "        \"description\": workflowDescription,\n",
    "    },\n",
    "    \"sqlQuery\": amc_query,\n",
    "    \"defaultPayload\": {\n",
    "            \"timeWindowEnd\": timeWindowEnd,\n",
    "            \"timeWindowStart\": timeWindowStart,\n",
    "            \"timeWindowType\": timeWindowType,\n",
    "            \"workflowExecutedDate\": workflowExecutedDate\n",
    "    }\n",
    "}\n",
    "\n",
    "print(f'workflowId = {workflowId}')\n",
    "print(f'workflowDetails = {json.dumps(workflowDetails, indent=4)}')"
   ]
  },
  {
   "cell_type": "markdown",
   "id": "c1c24dea",
   "metadata": {},
   "source": [
    "##### Submit Workflow Create\n",
    "\n",
    "Run the cell below to create and save the workflow details."
   ]
  },
  {
   "cell_type": "code",
   "execution_count": null,
   "id": "835c7fd8",
   "metadata": {},
   "outputs": [],
   "source": [
    "response = workflow_interface.set_workflow_record(\n",
    "    workflowId=workflowId,\n",
    "    customerId=customerId,\n",
    "    workflowDetails=workflowDetails\n",
    "    )\n",
    "\n",
    "print(response)"
   ]
  },
  {
   "cell_type": "markdown",
   "id": "f4e44df8",
   "metadata": {},
   "source": [
    "#### Step 3: Invoke the Workflow to be Executed Ad Hoc\n",
    "\n",
    "Saved workflows can be executed adhoc or on a schedule. In the following steps we will invoke the workflow we just created once adhoc.\n",
    "\n",
    "Refer to the Workflow_Schedules notebook for information on how to schedule saved workflows.\n",
    "\n",
    "##### Submit Workflow Invoke Request\n",
    "\n",
    "Run the cell below to submit the workflow to be processed adhoc."
   ]
  },
  {
   "cell_type": "code",
   "execution_count": null,
   "id": "baddbdc2",
   "metadata": {},
   "outputs": [],
   "source": [
    "response = workflow_interface.invoke_workflow(\n",
    "    workflowId=workflowId, \n",
    "    customerId=customerId\n",
    "    )\n",
    "\n",
    "print(response)"
   ]
  },
  {
   "cell_type": "markdown",
   "id": "bf29beab",
   "metadata": {},
   "source": [
    "#### Your workflow is now being processed and executed\n",
    "Once the workflow has run, data will be uploaded to your AMC S3 Bucket with the results of the workflow query and then processed through the data lake. "
   ]
  },
  {
   "cell_type": "markdown",
   "id": "ae1d4d27",
   "metadata": {},
   "source": [
    "#### **Next Steps**\n",
    "After going through the guide above, the following notebooks provide templates for interacting with the microservice solution.\n",
    "\n",
    "**Customers**: managing and onboarding new customers to the service.\n",
    "**Workflows**: managing and invoking workflows for single customers.  \n",
    "**Workflow_Schedules**: managing workflow schedules for single customers.  \n",
    "**Workflow_Library**: managing workflow and schedules for multiple customers.  \n",
    "\n",
    "The reference folder located in this deployed instance also contains additional documentation"
   ]
  }
 ],
 "metadata": {
  "interpreter": {
   "hash": "40ec9b8a0674637d910db8619ba3f1edb1c41b7ab1d9e9c6b03cbee6008de5a1"
  },
  "kernelspec": {
   "display_name": "Python 3.10.3 64-bit ('amc-insights')",
   "language": "python",
   "name": "python3"
  },
  "language_info": {
   "codemirror_mode": {
    "name": "ipython",
    "version": 3
   },
   "file_extension": ".py",
   "mimetype": "text/x-python",
   "name": "python",
   "nbconvert_exporter": "python",
   "pygments_lexer": "ipython3",
   "version": "3.10.3"
  }
 },
 "nbformat": 4,
 "nbformat_minor": 5
}
